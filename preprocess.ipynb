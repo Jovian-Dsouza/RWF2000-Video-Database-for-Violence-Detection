{
 "metadata": {
  "language_info": {
   "codemirror_mode": {
    "name": "ipython",
    "version": 3
   },
   "file_extension": ".py",
   "mimetype": "text/x-python",
   "name": "python",
   "nbconvert_exporter": "python",
   "pygments_lexer": "ipython3",
   "version": "3.8.8"
  },
  "orig_nbformat": 4,
  "kernelspec": {
   "name": "python3",
   "display_name": "Python 3.8.8 64-bit ('violence-detection': conda)"
  },
  "interpreter": {
   "hash": "e1882b93ad001e3e2ff0ef238c087c43366907e6c3023602f5a4e20edc3c186b"
  }
 },
 "nbformat": 4,
 "nbformat_minor": 2,
 "cells": [
  {
   "cell_type": "code",
   "execution_count": 1,
   "metadata": {},
   "outputs": [],
   "source": [
    "import cv2  \n",
    "import numpy as np\n",
    "import matplotlib.pyplot as plt\n",
    "import os \n",
    "from tqdm.auto import tqdm\n",
    "import shutil\n",
    "\n",
    "from preprocess import *"
   ]
  },
  {
   "cell_type": "code",
   "execution_count": 2,
   "metadata": {},
   "outputs": [],
   "source": [
    "def setup_dir(dir, labels=[]):\n",
    "    # Delete previous directory\n",
    "    try:\n",
    "        shutil.rmtree(dir)\n",
    "    except FileNotFoundError:\n",
    "        pass\n",
    "\n",
    "    # Create new directories\n",
    "    os.mkdir(dir)\n",
    "    for label in labels:\n",
    "        os.mkdir(os.path.join(dir, label))\n"
   ]
  },
  {
   "cell_type": "code",
   "execution_count": 3,
   "metadata": {},
   "outputs": [
    {
     "output_type": "stream",
     "name": "stderr",
     "text": [
      "  0%|          | 0/2 [00:00<?, ?it/s]\n",
      "  0%|          | 0/2 [00:00<?, ?it/s]\u001b[A\n",
      " 50%|█████     | 1/2 [00:02<00:02,  2.50s/it]\u001b[A\n",
      "100%|██████████| 2/2 [00:04<00:00,  2.31s/it]\n",
      " 50%|█████     | 1/2 [00:04<00:04,  4.62s/it]\n",
      "  0%|          | 0/2 [00:00<?, ?it/s]\u001b[A\n",
      " 50%|█████     | 1/2 [00:03<00:03,  3.02s/it]\u001b[A\n",
      "100%|██████████| 2/2 [00:05<00:00,  2.55s/it]\n",
      "100%|██████████| 2/2 [00:09<00:00,  4.86s/it]Preprocessed complete\n",
      "\n"
     ]
    }
   ],
   "source": [
    "source_path = 'test_videos'\n",
    "\n",
    "def preprocess_dir(source_path):\n",
    "    dest_path = source_path + '_numpy'\n",
    "    setup_dir(dest_path, labels=os.listdir(source_path))\n",
    "    for f1 in tqdm(os.listdir(source_path)):\n",
    "        path1 = os.path.join(source_path, f1)\n",
    "        path2 = os.path.join(dest_path, f1)\n",
    "        Save2Npy(file_dir=path1, save_dir=path2)\n",
    "\n",
    "    print(\"\\nPreprocessed complete\")\n",
    "    \n",
    "preprocess_dir(source_path)"
   ]
  },
  {
   "cell_type": "code",
   "execution_count": 7,
   "metadata": {},
   "outputs": [
    {
     "output_type": "stream",
     "name": "stdout",
     "text": [
      " Volume in drive C is Acer\n Volume Serial Number is BCC6-9481\n\n Directory of c:\\Users\\dsouz\\Projects\\RWF2000-Video-Database-for-Violence-Detection\\test_videos_numpy\n\n20-06-2021  11:05    <DIR>          .\n20-06-2021  11:05    <DIR>          ..\n20-06-2021  11:05    <DIR>          non_violence\n20-06-2021  11:05    <DIR>          violence\n               0 File(s)              0 bytes\n               4 Dir(s)  325,365,813,248 bytes free\n"
     ]
    }
   ],
   "source": [
    "!dir test_videos_numpy"
   ]
  }
 ]
}